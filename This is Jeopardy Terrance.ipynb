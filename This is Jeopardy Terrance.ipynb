{
 "cells": [
  {
   "cell_type": "markdown",
   "metadata": {},
   "source": [
    "# This is Jeopardy!"
   ]
  },
  {
   "cell_type": "markdown",
   "metadata": {},
   "source": [
    "#### Overview"
   ]
  },
  {
   "cell_type": "markdown",
   "metadata": {},
   "source": [
    "This project is slightly different than others you have encountered thus far. Instead of a step-by-step tutorial, this project contains a series of open-ended requirements which describe the project you'll be building. There are many possible ways to correctly fulfill all of these requirements, and you should expect to use the internet, Codecademy, and/or other resources when you encounter a problem that you cannot easily solve."
   ]
  },
  {
   "cell_type": "markdown",
   "metadata": {},
   "source": [
    "#### Project Goals"
   ]
  },
  {
   "cell_type": "markdown",
   "metadata": {},
   "source": [
    "You will work to write several functions that investigate a dataset of _Jeopardy!_ questions and answers. Filter the dataset for topics that you're interested in, compute the average difficulty of those questions, and train to become the next Jeopardy champion!"
   ]
  },
  {
   "cell_type": "markdown",
   "metadata": {},
   "source": [
    "## Prerequisites"
   ]
  },
  {
   "cell_type": "markdown",
   "metadata": {},
   "source": [
    "In order to complete this project, you should have completed the Pandas lessons in the <a href=\"https://www.codecademy.com/learn/paths/analyze-data-with-python\">Analyze Data with Python Skill Path</a>. You can also find those lessons in the <a href=\"https://www.codecademy.com/learn/data-processing-pandas\">Data Analysis with Pandas course</a> or the <a href=\"https://www.codecademy.com/learn/paths/data-science/\">Data Scientist Career Path</a>.\n",
    "\n",
    "Finally, the <a href=\"https://www.codecademy.com/learn/practical-data-cleaning\">Practical Data Cleaning</a> course may also be helpful."
   ]
  },
  {
   "cell_type": "markdown",
   "metadata": {},
   "source": [
    "## Project Requirements"
   ]
  },
  {
   "cell_type": "markdown",
   "metadata": {},
   "source": [
    "1. We've provided a csv file containing data about the game show _Jeopardy!_ in a file named `jeopardy.csv`. Load the data into a DataFrame and investigate its contents. Try to print out specific columns.\n",
    "\n",
    "   Note that in order to make this project as \"real-world\" as possible, we haven't modified the data at all - we're giving it to you exactly how we found it. As a result, this data isn't as \"clean\" as the datasets you normally find on Codecademy. More specifically, there's something odd about the column names. After you figure out the problem with the column names, you may want to rename them to make your life easier for the rest of the project.\n",
    "   \n",
    "   In order to display the full contents of a column, we've added this line of code for you:\n",
    "   \n",
    "   ```py\n",
    "   pd.set_option('display.max_colwidth', None)\n",
    "   ```"
   ]
  },
  {
   "cell_type": "code",
   "execution_count": 1,
   "metadata": {},
   "outputs": [
    {
     "name": "stderr",
     "output_type": "stream",
     "text": [
      "C:\\Users\\cowha\\AppData\\Local\\Temp/ipykernel_11520/1387900380.py:13: FutureWarning: The default value of regex will change from True to False in a future version.\n",
      "  jeopardy['question']\n"
     ]
    },
    {
     "name": "stdout",
     "output_type": "stream",
     "text": [
      "<class 'pandas.core.frame.DataFrame'>\n",
      "RangeIndex: 216930 entries, 0 to 216929\n",
      "Data columns (total 8 columns):\n",
      " #   Column       Non-Null Count   Dtype         \n",
      "---  ------       --------------   -----         \n",
      " 0   show_number  216930 non-null  int64         \n",
      " 1   air_date     216930 non-null  datetime64[ns]\n",
      " 2   round        216930 non-null  object        \n",
      " 3   category     216930 non-null  object        \n",
      " 4   value        216930 non-null  int64         \n",
      " 5   question     216930 non-null  object        \n",
      " 6   answer       216930 non-null  object        \n",
      " 7   qlist        216930 non-null  object        \n",
      "dtypes: datetime64[ns](1), int64(2), object(5)\n",
      "memory usage: 13.2+ MB\n",
      "None\n",
      "1984-09-10 00:00:00\n"
     ]
    }
   ],
   "source": [
    "import pandas as pd\n",
    "import numpy as np\n",
    "import string\n",
    "import random\n",
    "from time import sleep\n",
    "pd.set_option('display.max_colwidth', None)\n",
    "\n",
    "jeopardy = pd.read_csv('jeopardy.csv')\n",
    "jeopardy.set_axis(['show_number', 'air_date', 'round', 'category', 'value', 'question', 'answer'],\\\n",
    "                  axis='columns', inplace = True)\n",
    "\n",
    "jeopardy['qlist'] = [set(words) for words in\n",
    "    jeopardy['question']\n",
    "    .str.lower()\n",
    "    .str.replace(\"'\", \" \")\n",
    "    .str.replace('[{0}]*'.format(string.punctuation), '')\n",
    "    .str.strip()\n",
    "    .str.split()\n",
    "]\n",
    "\n",
    "jeopardy.value = jeopardy.value.apply(lambda x: int(x.replace(\"$\", \"\").replace(\",\", \"\")) if x != 'None' else 0).astype('int64')\n",
    "jeopardy.answer.fillna('Null', inplace=True)\n",
    "jeopardy.air_date = jeopardy.air_date.astype('datetime64')\n",
    "\n",
    "print(jeopardy.info())\n",
    "print(jeopardy.air_date.min())"
   ]
  },
  {
   "cell_type": "markdown",
   "metadata": {},
   "source": [
    "2. Write a function that filters the dataset for questions that contains all of the words in a list of words. For example, when the list `[\"King\", \"England\"]` was passed to our function, the function returned a DataFrame of 49 rows. Every row had the strings `\"King\"` and `\"England\"` somewhere in its `\" Question\"`.\n",
    "\n",
    "   Test your function by printing out the column containing the question of each row of the dataset."
   ]
  },
  {
   "cell_type": "code",
   "execution_count": 2,
   "metadata": {},
   "outputs": [
    {
     "name": "stdout",
     "output_type": "stream",
     "text": [
      "0                                                                                                                                                                                                                                                                     Both England's King George V & FDR put their stamp of approval on this \"King of Hobbies\"\n",
      "1                                                                                                                                                                                                                                                            This country's King Louis IV was nicknamed \"Louis From Overseas\" because he was raised in England\n",
      "2                                                                                                                                                                                                                                                                                 this man and his son ruled England following the execution of King Charles I\n",
      "3                                                                                                                                                                                                                                                         William the Conqueror was crowned King of England in Westminster Abbey on Christmas Day in this year\n",
      "4                                                                                                                                                                                                                                                                           This member of the Medici family was the mother-in-law of England's King Charles I\n",
      "5                 (Sarah of the Clue Crew delivers the clue from the Bayeux Cathedral in France.)  Despite taking an oath to assure another succession, Harold is crowned King of England; the tapestry indicated it was <a href=\"http://www.j-archive.com/media/2008-12-18_J_08.jpg\" target=\"_blank\">Stigant</a>, this archbishop, who performed the ceremony\n",
      "6                                                                                                                                                                                                                                    This French king recognized William of Orange as William II, King of England, under the terms of 1697's Treaty of Ryswick\n",
      "7                                                                                                                                                                                                                                                     England's King Henry VIII had 3 wives named Catherine:  Catherine Howard, Catherine of Aragon & this one\n",
      "8                                                                                                                                                                                                                                                                                                                       The father of England's King Edward VI\n",
      "9                                                                                                                                                                                                                                                                                                   This steak sauce was created for King George IV of England\n",
      "10                                                                                                                                                                                                                                                                      Elizabeth I's half-brother, he reigned before her as King of England from 1547 to 1553\n",
      "11                                                                                                                 (<a href=\"http://www.j-archive.com/media/2000-03-02_J_22.jpg\" target=\"_blank\">Alex Trebek reads from England.</a>)  In 1214 barons fed up with King John met at the abbey whose ruins we see here; the result a year later was this charter\n",
      "12                                                                                                                                                                                                                                                He wrote several anthems, including \"The King Shall Rejoice\", for the coronation of England's King George II\n",
      "13                                                                                                                                                                                                                                                             This city known for its 24-hour auto race was the birthplace of England's King Henry II in 1133\n",
      "14                                                                                                                                                                                                                                                                                        Famous (& rather insulting) adjective for England's King Ethelred II\n",
      "15                                                                                                                                                                                                                                                                       He became King of England in 1399 after forcing his cousin Richard II from the throne\n",
      "16                                                                                                                                                                                                                                                                                     Number of the William who was England's \"Sailor King\" from 1830 to 1837\n",
      "17                                                                                                                                                                                                                                                                    Barons & churchmen drew up this 1215 document to reduce the power of England's King John\n",
      "18                                                                                                                                                                                                                                                         He became King of England on June 26, 1483; just over 2 years later he was killed at Bosworth Field\n",
      "19                                                                                                                                                                                                                                             On Christmas Day 1066, he was crowned King of England, 72 days after defeating Harold at the Battle of Hastings\n",
      "20                                                                                                                                                                                                                                                                                               England's King Charles II was known by this \"jovial\" nickname\n",
      "21                                                                                                                                                                                                                                                                           He went from second banana on \"Roseanne\" to top banana of England in \"King Ralph\"\n",
      "22                                                                                                                                                                                                                                                                        This country's King Olaf V was born in England & was the grandson of King Edward VII\n",
      "23                                                                                                                                                                                                                                                           This 11th Century King of England also ruled Denmark & Norway during the latter part of his reign\n",
      "24                                                                                                                                                                                                                                                   It begins \"John, by the grace of God, King of England, Lord of Ireland, Duke of Normandy & Aquitaine....\"\n",
      "25                                                                                                                                                                                                                                                                                            In French this King of England is called Guillaume le Conquerant\n",
      "26                                                                                                                                                                                                                                                                     If you want to be crowned King of England, this rock has to be in your coronation chair\n",
      "27                                                                                                                                                                                                                                                                                                                              King Henry VII of England dies\n",
      "28                                                                                                                                                                                                                                                                                              Famous nickname of the eldest son of England's King Edward III\n",
      "29                                                                                                                                                                                                                                                                Ethelred the Unready managed to lose most of England to King Sweyn Forkbeard of this country\n",
      "30                                                                                                                                                                                                                                                                                  This state was named for the King of England who reigned from 1727 to 1760\n",
      "31                                                                                                                                                                                                                                                              King Edward I of England, who fought William Wallace, had this nickname relating to his height\n",
      "32                                                                                                                                                                                                                                                                                    This \"Sun King\" sniffed, \"England is a little garden full of sour weeds\"\n",
      "33                                                                                                                                                                                                                                                                                        The last King William to rule England had this number after his name\n",
      "34                                                                                                                                                                                                                                                                This Flemish artist painted a unique triple portrait of England's King Charles I around 1637\n",
      "35                                                                                                                                                                                                                                                                                       During Stanley Baldwin's term as P.M., this King of England abdicated\n",
      "36                                                                                                                                                                                                                                                        The 1st commoner to rule England, he became lord protector following the overthrow of King Charles I\n",
      "37                                                                                                                                                                                                                                                       The \"Angel of Hadley\" is said to have saved a New England town during the war with this Indian \"King\"\n",
      "38                                                                                                                                                                                                                                                                In the 1697 Treaty of Rijswijk, the French recognized this Dutch-born man as King of England\n",
      "39                                                                                                                                                                                                                                                                                            This conqueror was crowned King of England on Christmas Day 1066\n",
      "40                                                                                                                                                                                                                                                                                                          His short reign as King of England fell in in 1936\n",
      "41                                                                                                                                                                                                                                                            A capital in the West Indies is named for this family name of William of Orange, King of England\n",
      "42                                                                                                                                                                                                                                           He was King of England from 1189 to 1199 but spent only 6 months there; the rest of the time, he was off fighting\n",
      "43                                                                                                                                                                                                                                                                     This Bahamian capital took its name from the family name of King William III of England\n",
      "44                                                                                                                                                                                                                                                                             England's King Harold II lost the all-important Battle of Hastings in this year\n",
      "45    (<a href=\"http://www.j-archive.com/media/2012-01-17_DJ_25.jpg\" target=\"_blank\">Sarah of the Clue Crew stands in front of the Royal Palace in Oslo, Norway.</a>) King Harald V lives here, in Norway's Royal Palace. He and his second cousin, England's Queen Elizabeth, are both great-grandchildren of this British king, who ruled from 1901 to 1910.\n",
      "46                                                                                                                                                                                                                                                                                                                          England's King _____ _____ R. Luce\n",
      "47                                                                                                                                                                                                                                                            The \"Monty Python\" member who played King Arthur, he ended his grail quest in Maidstone, England\n",
      "48                                                                                                                                                                                                                                             8th C. King Offa built a 170-mile north-south dike that still partly marks the border of England & this country\n",
      "Name: question, dtype: object\n"
     ]
    }
   ],
   "source": [
    "def filter_data(data, words):\n",
    "    filter = lambda x: all(word in x for word in words)\n",
    "    return data.loc[data[\"question\"].apply(filter)].reset_index()\n",
    "    \n",
    "print(filter_data(jeopardy, ['King', 'England']).question)"
   ]
  },
  {
   "cell_type": "markdown",
   "metadata": {},
   "source": [
    "3. Test your original function with a few different sets of words to try to find some ways your function breaks. Edit your function so it is more robust.\n",
    "\n",
    "   For example, think about capitalization. We probably want to find questions that contain the word `\"King\"` or `\"king\"`.\n",
    "   \n",
    "   You may also want to check to make sure you don't find rows that contain substrings of your given words. For example, our function found a question that didn't contain the word `\"king\"`, however it did contain the word `\"viking\"` &mdash; it found the `\"king\"` inside `\"viking\"`. Note that this also comes with some drawbacks &mdash; you would no longer find questions that contained words like `\"England's\"`."
   ]
  },
  {
   "cell_type": "code",
   "execution_count": 3,
   "metadata": {},
   "outputs": [
    {
     "name": "stdout",
     "output_type": "stream",
     "text": [
      "0       <a href=\"http://www.j-archive.com/media/2004-12-31_DJ_26.mp3\">Ripped from today's headlines, he was a turtle king gone mad; Mack was the one good turtle who'd bring him down</a>\n",
      "1                     <a href=\"http://www.j-archive.com/media/2004-12-31_DJ_24.mp3\">\"500 Hats\"... 500 ways to die.  On July 4th, this young boy will defy a king... & become a legend</a>\n",
      "2                                                                                                                     Between 1842 & 1885, he repeatedly revised his \"Idylls of the King\"\n",
      "3                                                                                                         Robin Quivers is the radio consort of this self-proclaimed  \"King of All Media\"\n",
      "4                                                                                                                A Norman could say, \"I'm the king of the motte-and-bailey style of\" this\n",
      "                                                                                              ...                                                                                        \n",
      "2720                                                                                                                               Her 2 husbands were Uriah the Hittite & David the king\n",
      "2721                                                                                                             Stephen King's 1980 overview of the horror genre was called \"Danse\" this\n",
      "2722                                                                         Upon signing his name in 1776 he said, \"There, King George will be able to read that without his spectacles\"\n",
      "2723                                                                   The first one of these tombs was built about 2650 B.C. by Imhotep for King Zoser & rose about 200 feet using steps\n",
      "2724                                                                                     A Hoffmann tale title lost the words \"And The Mouse King\" when it became this Tchaikovsky ballet\n",
      "Name: question, Length: 2725, dtype: object\n"
     ]
    }
   ],
   "source": [
    "def filter_data(data, words):\n",
    "    filter = lambda x: all(word.lower() in x for word in words)\n",
    "    return data.loc[data[\"qlist\"].apply(filter)].reset_index()\n",
    "    \n",
    "filtered = filter_data(jeopardy, ['King'])\n",
    "\n",
    "print(filtered.question)"
   ]
  },
  {
   "cell_type": "markdown",
   "metadata": {},
   "source": [
    "4. We may want to eventually compute aggregate statistics, like `.mean()` on the `\" Value\"` column. But right now, the values in that column are strings. Convert the`\" Value\"` column to floats. If you'd like to, you can create a new column with float values.\n",
    "\n",
    "   Now that you can filter the dataset of question, use your new column that contains the float values of each question to find the \"difficulty\" of certain topics. For example, what is the average value of questions that contain the word `\"King\"`?\n",
    "   \n",
    "   Make sure to use the dataset that contains the float values as the dataset you use in your filtering function."
   ]
  },
  {
   "cell_type": "code",
   "execution_count": 4,
   "metadata": {},
   "outputs": [
    {
     "name": "stdout",
     "output_type": "stream",
     "text": [
      "803.8715596330276\n"
     ]
    }
   ],
   "source": [
    "print(filtered.value.mean())"
   ]
  },
  {
   "cell_type": "markdown",
   "metadata": {},
   "source": [
    "5. Write a function that returns the count of unique answers to all of the questions in a dataset. For example, after filtering the entire dataset to only questions containing the word `\"King\"`, we could then find all of the unique answers to those questions. The answer \"Henry VIII\" appeared 55 times and was the most common answer."
   ]
  },
  {
   "cell_type": "code",
   "execution_count": 5,
   "metadata": {},
   "outputs": [
    {
     "name": "stdout",
     "output_type": "stream",
     "text": [
      "                  answer  question\n",
      "0             Henry VIII        54\n",
      "1              Louis XIV        31\n",
      "2                Solomon        31\n",
      "3                  David        29\n",
      "4            Richard III        24\n",
      "...                  ...       ...\n",
      "1480               India         1\n",
      "1481                Inca         1\n",
      "1482  In (the beginning)         1\n",
      "1483               Ibsen         1\n",
      "1484               zlati         1\n",
      "\n",
      "[1485 rows x 2 columns]\n"
     ]
    }
   ],
   "source": [
    "def unique_answers(data):\n",
    "    return data.groupby('answer').question.count().sort_values(ascending=False).reset_index()\n",
    "\n",
    "print(unique_answers(filtered))"
   ]
  },
  {
   "cell_type": "markdown",
   "metadata": {},
   "source": [
    "6. Explore from here! This is an incredibly rich dataset, and there are so many interesting things to discover. There are a few columns that we haven't even started looking at yet. Here are some ideas on ways to continue working with this data:\n",
    "\n",
    " * Investigate the ways in which questions change over time by filtering by the date. How many questions from the 90s use the word `\"Computer\"` compared to questions from the 2000s?\n",
    " * Is there a connection between the round and the category? Are you more likely to find certain categories, like `\"Literature\"` in Single Jeopardy or Double Jeopardy?\n",
    " * Build a system to quiz yourself. Grab random questions, and use the <a href=\"https://docs.python.org/3/library/functions.html#input\">input</a> function to get a response from the user. Check to see if that response was right or wrong."
   ]
  },
  {
   "cell_type": "code",
   "execution_count": 6,
   "metadata": {},
   "outputs": [
    {
     "name": "stdout",
     "output_type": "stream",
     "text": [
      "Select your round (\"Jeopardy!\", \"Double Jeopardy!\", or \"Final Jeopardy!\"):\n",
      "Final Jeopardy!\n",
      "Your categories: \n",
      "{'1': 'CLASSIC TV', '2': 'BUSINESS & INDUSTRY', '3': 'U.S. STRUCTURES', '4': 'TAXES', '5': '2002 NEWS', '6': 'U.S. GOVERNMENT'}\n",
      "Select a category:\n",
      "4\n",
      "You've chosen: TAXES\n",
      "How much would you like to wager?\n",
      "100000\n",
      "Here is your clue!\n",
      "\n",
      "    The tax on this was the subject of a 1794 \"Rebellion\" & an 1875 \"Ring\" scandal\n",
      "What is your guess? Don't include \"Who is\", \"What is\", etc. tea\n",
      "Sorry, the correct answer was Whiskey. \n",
      "\n",
      "Please send $100000 to me via paypal or etransfer. Payments not received within 5 business days will be subject to penalties.\n",
      "Would you like to play again? Type y or yes to play again, or anything else to exit.\n",
      "c\n"
     ]
    }
   ],
   "source": [
    "# def round_count(data, words):\n",
    "#     rounds = filter_data(data, words)\n",
    "#     return rounds.groupby('round').question.count().sort_values(ascending=False).reset_index()\n",
    "\n",
    "# print(round_count(jeopardy, ['jesus']))\n",
    "\n",
    "def jeopardy_game():\n",
    "    while True:\n",
    "        while True:\n",
    "            selectround = input('Select your round (\"Jeopardy!\", \"Double Jeopardy!\", or \"Final Jeopardy!\"):\\n')\n",
    "            if selectround not in jeopardy['round'].tolist():\n",
    "                print('Please select a valid round.')\n",
    "            else: break\n",
    "        round_filtered = jeopardy.loc[jeopardy['round'] == selectround].category.unique()\n",
    "        randcat = random.sample(range(len(round_filtered)), 6)\n",
    "        categories = {str(x+1): round_filtered[randcat[x]] for x in range(6)}\n",
    "        print('Your categories: ')\n",
    "        print(categories)\n",
    "        while True:\n",
    "            catans = input('Select a category:\\n')\n",
    "            if catans in categories:\n",
    "                chosen_category = categories[catans]\n",
    "                print(\"You've chosen: \" + chosen_category)\n",
    "                break\n",
    "            else:\n",
    "                print('Please select your category by typing the number of your chosen category')\n",
    "        if selectround == 'Jeopardy!' or selectround == 'Double Jeopardy!':\n",
    "            wager = jeopardy.loc[(jeopardy['round'] == selectround) & (jeopardy.category == chosen_category)]\\\n",
    "                            .value.unique().tolist()\n",
    "            while True:\n",
    "                print(\"Select wager: \", wager,\\\n",
    "                      \"\\nNote: non-standard wagers may be Daily Double questions, older games, or specialty games.\\n\")\n",
    "                wagerchoose = input('Your wager:\\n')\n",
    "                try:\n",
    "                    wagerchoose = int(wagerchoose)\n",
    "                    if wagerchoose not in wager:\n",
    "                        print(\"Please select a wager from the list\")\n",
    "                    else:\n",
    "                        questionfiltered = jeopardy.loc[\n",
    "                                                        (jeopardy['round'] == selectround) &\n",
    "                                                        (jeopardy.category == chosen_category) &\n",
    "                                                        (jeopardy.value == wagerchoose)\n",
    "                                           ].reset_index(drop=True)\n",
    "                        break\n",
    "                except ValueError:\n",
    "                    print(\"Invalid input, please try again.\")\n",
    "        else:\n",
    "            while True:\n",
    "                try:\n",
    "                    wagerchoose = input(\"How much would you like to wager?\\n\")\n",
    "                    wagerchoose = int(wagerchoose)\n",
    "                    questionfiltered = jeopardy.loc[\n",
    "                                                    (jeopardy['round'] == selectround) &\n",
    "                                                    (jeopardy.category == chosen_category)\n",
    "                                       ].reset_index(drop=True)\n",
    "                    break\n",
    "                except ValueError:\n",
    "                    print(\"Invalid input, please try again.\")\n",
    "        #print(questionfiltered)\n",
    "        questionno = random.randint(0,questionfiltered.index.max())\n",
    "        print(\"Here is your clue!\\n\\n   \", questionfiltered.loc[questionno, 'question'])\n",
    "        answer = input('What is your guess? Don\\'t include \"Who is\", \"What is\", etc. ')\n",
    "        if answer.lower() == questionfiltered.loc[questionno, 'answer'].lower():\n",
    "            print(\"That's correct, congratulations! Feel free to add ${} to your fake virtual score.\"\\\n",
    "                 .format(wagerchoose))\n",
    "        else:\n",
    "            print(\"Sorry, the correct answer was {}. \\n\\nPlease send ${} to me via paypal or etransfer. Payments not received within 5 business days will be subject to penalties.\".format(questionfiltered.loc[questionno, 'answer'], wagerchoose))\n",
    "        playagain = input(\"Would you like to play again? Type y or yes to play again, or anything else to exit.\\n\")\n",
    "        if playagain.lower() != 'y' and playagain.lower() != 'yes':\n",
    "            break\n",
    "\n",
    "jeopardy_game()\n",
    "\n"
   ]
  },
  {
   "cell_type": "markdown",
   "metadata": {},
   "source": [
    "## Solution"
   ]
  },
  {
   "cell_type": "markdown",
   "metadata": {},
   "source": [
    "7. Compare your program to our <a href=\"https://content.codecademy.com/PRO/independent-practice-projects/jeopardy/jeopardy_solution.zip\">sample solution code</a> - remember, that your program might look different from ours (and probably will) and that's okay!"
   ]
  },
  {
   "cell_type": "markdown",
   "metadata": {},
   "source": [
    "8. Great work! Visit <a href=\"https://discuss.codecademy.com/t/this-is-jeopardy-challenge-project-python-pandas/462365\">our forums</a> to compare your project to our sample solution code. You can also learn how to host your own solution on GitHub so you can share it with other learners! Your solution might look different from ours, and that's okay! There are multiple ways to solve these projects, and you'll learn more by seeing others' code."
   ]
  },
  {
   "cell_type": "code",
   "execution_count": null,
   "metadata": {},
   "outputs": [],
   "source": []
  }
 ],
 "metadata": {
  "kernelspec": {
   "display_name": "Python 3 (ipykernel)",
   "language": "python",
   "name": "python3"
  },
  "language_info": {
   "codemirror_mode": {
    "name": "ipython",
    "version": 3
   },
   "file_extension": ".py",
   "mimetype": "text/x-python",
   "name": "python",
   "nbconvert_exporter": "python",
   "pygments_lexer": "ipython3",
   "version": "3.9.7"
  }
 },
 "nbformat": 4,
 "nbformat_minor": 2
}
